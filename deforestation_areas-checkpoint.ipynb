{
 "cells": [
  {
   "cell_type": "code",
   "execution_count": 48,
   "id": "c90d033c",
   "metadata": {},
   "outputs": [],
   "source": [
    "import numpy as np\n",
    "import pandas as pd\n",
    "import matplotlib.pyplot as plt\n",
    "import seaborn as sns\n",
    "\n",
    "%matplotlib inline"
   ]
  },
  {
   "cell_type": "code",
   "execution_count": 49,
   "id": "1bf14765",
   "metadata": {},
   "outputs": [
    {
     "data": {
      "text/html": [
       "<div>\n",
       "<style scoped>\n",
       "    .dataframe tbody tr th:only-of-type {\n",
       "        vertical-align: middle;\n",
       "    }\n",
       "\n",
       "    .dataframe tbody tr th {\n",
       "        vertical-align: top;\n",
       "    }\n",
       "\n",
       "    .dataframe thead th {\n",
       "        text-align: right;\n",
       "    }\n",
       "</style>\n",
       "<table border=\"1\" class=\"dataframe\">\n",
       "  <thead>\n",
       "    <tr style=\"text-align: right;\">\n",
       "      <th></th>\n",
       "      <th>Ano/Estados</th>\n",
       "      <th>AC</th>\n",
       "      <th>AM</th>\n",
       "      <th>AP</th>\n",
       "      <th>MA</th>\n",
       "      <th>MT</th>\n",
       "      <th>PA</th>\n",
       "      <th>RO</th>\n",
       "      <th>RR</th>\n",
       "      <th>TO</th>\n",
       "      <th>AMZ LEGAL</th>\n",
       "    </tr>\n",
       "  </thead>\n",
       "  <tbody>\n",
       "    <tr>\n",
       "      <th>0</th>\n",
       "      <td>2004</td>\n",
       "      <td>728</td>\n",
       "      <td>1232</td>\n",
       "      <td>46</td>\n",
       "      <td>755</td>\n",
       "      <td>11814</td>\n",
       "      <td>8870</td>\n",
       "      <td>3858</td>\n",
       "      <td>311</td>\n",
       "      <td>158</td>\n",
       "      <td>27772</td>\n",
       "    </tr>\n",
       "    <tr>\n",
       "      <th>1</th>\n",
       "      <td>2005</td>\n",
       "      <td>592</td>\n",
       "      <td>775</td>\n",
       "      <td>33</td>\n",
       "      <td>922</td>\n",
       "      <td>7145</td>\n",
       "      <td>5899</td>\n",
       "      <td>3244</td>\n",
       "      <td>133</td>\n",
       "      <td>271</td>\n",
       "      <td>19014</td>\n",
       "    </tr>\n",
       "    <tr>\n",
       "      <th>2</th>\n",
       "      <td>2006</td>\n",
       "      <td>398</td>\n",
       "      <td>788</td>\n",
       "      <td>30</td>\n",
       "      <td>674</td>\n",
       "      <td>4333</td>\n",
       "      <td>5659</td>\n",
       "      <td>2049</td>\n",
       "      <td>231</td>\n",
       "      <td>124</td>\n",
       "      <td>14286</td>\n",
       "    </tr>\n",
       "    <tr>\n",
       "      <th>3</th>\n",
       "      <td>2007</td>\n",
       "      <td>184</td>\n",
       "      <td>610</td>\n",
       "      <td>39</td>\n",
       "      <td>631</td>\n",
       "      <td>2678</td>\n",
       "      <td>5526</td>\n",
       "      <td>1611</td>\n",
       "      <td>309</td>\n",
       "      <td>63</td>\n",
       "      <td>11651</td>\n",
       "    </tr>\n",
       "    <tr>\n",
       "      <th>4</th>\n",
       "      <td>2008</td>\n",
       "      <td>254</td>\n",
       "      <td>604</td>\n",
       "      <td>100</td>\n",
       "      <td>1271</td>\n",
       "      <td>3258</td>\n",
       "      <td>5607</td>\n",
       "      <td>1136</td>\n",
       "      <td>574</td>\n",
       "      <td>107</td>\n",
       "      <td>12911</td>\n",
       "    </tr>\n",
       "  </tbody>\n",
       "</table>\n",
       "</div>"
      ],
      "text/plain": [
       "   Ano/Estados   AC    AM   AP    MA     MT    PA    RO   RR   TO  AMZ LEGAL\n",
       "0         2004  728  1232   46   755  11814  8870  3858  311  158      27772\n",
       "1         2005  592   775   33   922   7145  5899  3244  133  271      19014\n",
       "2         2006  398   788   30   674   4333  5659  2049  231  124      14286\n",
       "3         2007  184   610   39   631   2678  5526  1611  309   63      11651\n",
       "4         2008  254   604  100  1271   3258  5607  1136  574  107      12911"
      ]
     },
     "execution_count": 49,
     "metadata": {},
     "output_type": "execute_result"
    }
   ],
   "source": [
    "df = pd.read_csv(\"def_area_2004_2019.csv\")\n",
    "df.head()"
   ]
  },
  {
   "cell_type": "code",
   "execution_count": 50,
   "id": "3198c323",
   "metadata": {},
   "outputs": [
    {
     "data": {
      "text/plain": [
       "(16, 11)"
      ]
     },
     "execution_count": 50,
     "metadata": {},
     "output_type": "execute_result"
    }
   ],
   "source": [
    "df.shape"
   ]
  },
  {
   "cell_type": "code",
   "execution_count": 51,
   "id": "f8f7343b",
   "metadata": {},
   "outputs": [
    {
     "data": {
      "text/plain": [
       "Ano/Estados    0\n",
       "AC             0\n",
       "AM             0\n",
       "AP             0\n",
       "MA             0\n",
       "MT             0\n",
       "PA             0\n",
       "RO             0\n",
       "RR             0\n",
       "TO             0\n",
       "AMZ LEGAL      0\n",
       "dtype: int64"
      ]
     },
     "execution_count": 51,
     "metadata": {},
     "output_type": "execute_result"
    }
   ],
   "source": [
    "df.isnull().sum()"
   ]
  },
  {
   "cell_type": "code",
   "execution_count": 52,
   "id": "36be9f2e",
   "metadata": {},
   "outputs": [
    {
     "data": {
      "text/html": [
       "<div>\n",
       "<style scoped>\n",
       "    .dataframe tbody tr th:only-of-type {\n",
       "        vertical-align: middle;\n",
       "    }\n",
       "\n",
       "    .dataframe tbody tr th {\n",
       "        vertical-align: top;\n",
       "    }\n",
       "\n",
       "    .dataframe thead th {\n",
       "        text-align: right;\n",
       "    }\n",
       "</style>\n",
       "<table border=\"1\" class=\"dataframe\">\n",
       "  <thead>\n",
       "    <tr style=\"text-align: right;\">\n",
       "      <th></th>\n",
       "      <th>Ano/Estados</th>\n",
       "      <th>AC</th>\n",
       "      <th>AM</th>\n",
       "      <th>AP</th>\n",
       "      <th>MA</th>\n",
       "      <th>MT</th>\n",
       "      <th>PA</th>\n",
       "      <th>RO</th>\n",
       "      <th>RR</th>\n",
       "      <th>TO</th>\n",
       "      <th>AMZ LEGAL</th>\n",
       "    </tr>\n",
       "  </thead>\n",
       "  <tbody>\n",
       "    <tr>\n",
       "      <th>count</th>\n",
       "      <td>16.000000</td>\n",
       "      <td>16.000000</td>\n",
       "      <td>16.000000</td>\n",
       "      <td>16.000000</td>\n",
       "      <td>16.000000</td>\n",
       "      <td>16.000000</td>\n",
       "      <td>16.000000</td>\n",
       "      <td>16.000000</td>\n",
       "      <td>16.000000</td>\n",
       "      <td>16.000000</td>\n",
       "      <td>16.000000</td>\n",
       "    </tr>\n",
       "    <tr>\n",
       "      <th>mean</th>\n",
       "      <td>2011.500000</td>\n",
       "      <td>357.625000</td>\n",
       "      <td>776.562500</td>\n",
       "      <td>38.500000</td>\n",
       "      <td>519.875000</td>\n",
       "      <td>2691.562500</td>\n",
       "      <td>3923.625000</td>\n",
       "      <td>1392.437500</td>\n",
       "      <td>243.187500</td>\n",
       "      <td>77.562500</td>\n",
       "      <td>10020.937500</td>\n",
       "    </tr>\n",
       "    <tr>\n",
       "      <th>std</th>\n",
       "      <td>4.760952</td>\n",
       "      <td>172.476037</td>\n",
       "      <td>300.648625</td>\n",
       "      <td>23.557023</td>\n",
       "      <td>316.705305</td>\n",
       "      <td>2940.367595</td>\n",
       "      <td>1945.802487</td>\n",
       "      <td>943.567413</td>\n",
       "      <td>150.567468</td>\n",
       "      <td>63.238141</td>\n",
       "      <td>6112.467134</td>\n",
       "    </tr>\n",
       "    <tr>\n",
       "      <th>min</th>\n",
       "      <td>2004.000000</td>\n",
       "      <td>167.000000</td>\n",
       "      <td>405.000000</td>\n",
       "      <td>8.000000</td>\n",
       "      <td>209.000000</td>\n",
       "      <td>757.000000</td>\n",
       "      <td>1741.000000</td>\n",
       "      <td>435.000000</td>\n",
       "      <td>121.000000</td>\n",
       "      <td>21.000000</td>\n",
       "      <td>4571.000000</td>\n",
       "    </tr>\n",
       "    <tr>\n",
       "      <th>25%</th>\n",
       "      <td>2007.750000</td>\n",
       "      <td>256.250000</td>\n",
       "      <td>568.000000</td>\n",
       "      <td>24.000000</td>\n",
       "      <td>257.750000</td>\n",
       "      <td>1108.750000</td>\n",
       "      <td>2411.250000</td>\n",
       "      <td>842.000000</td>\n",
       "      <td>139.000000</td>\n",
       "      <td>46.750000</td>\n",
       "      <td>6365.250000</td>\n",
       "    </tr>\n",
       "    <tr>\n",
       "      <th>50%</th>\n",
       "      <td>2011.500000</td>\n",
       "      <td>292.500000</td>\n",
       "      <td>661.000000</td>\n",
       "      <td>30.500000</td>\n",
       "      <td>399.500000</td>\n",
       "      <td>1525.500000</td>\n",
       "      <td>3389.000000</td>\n",
       "      <td>1189.500000</td>\n",
       "      <td>198.500000</td>\n",
       "      <td>57.500000</td>\n",
       "      <td>7500.000000</td>\n",
       "    </tr>\n",
       "    <tr>\n",
       "      <th>75%</th>\n",
       "      <td>2015.250000</td>\n",
       "      <td>409.500000</td>\n",
       "      <td>1012.000000</td>\n",
       "      <td>47.750000</td>\n",
       "      <td>722.750000</td>\n",
       "      <td>2823.000000</td>\n",
       "      <td>5546.250000</td>\n",
       "      <td>1434.750000</td>\n",
       "      <td>269.250000</td>\n",
       "      <td>82.250000</td>\n",
       "      <td>11966.000000</td>\n",
       "    </tr>\n",
       "    <tr>\n",
       "      <th>max</th>\n",
       "      <td>2019.000000</td>\n",
       "      <td>728.000000</td>\n",
       "      <td>1421.000000</td>\n",
       "      <td>100.000000</td>\n",
       "      <td>1271.000000</td>\n",
       "      <td>11814.000000</td>\n",
       "      <td>8870.000000</td>\n",
       "      <td>3858.000000</td>\n",
       "      <td>617.000000</td>\n",
       "      <td>271.000000</td>\n",
       "      <td>27772.000000</td>\n",
       "    </tr>\n",
       "  </tbody>\n",
       "</table>\n",
       "</div>"
      ],
      "text/plain": [
       "       Ano/Estados          AC           AM          AP           MA  \\\n",
       "count    16.000000   16.000000    16.000000   16.000000    16.000000   \n",
       "mean   2011.500000  357.625000   776.562500   38.500000   519.875000   \n",
       "std       4.760952  172.476037   300.648625   23.557023   316.705305   \n",
       "min    2004.000000  167.000000   405.000000    8.000000   209.000000   \n",
       "25%    2007.750000  256.250000   568.000000   24.000000   257.750000   \n",
       "50%    2011.500000  292.500000   661.000000   30.500000   399.500000   \n",
       "75%    2015.250000  409.500000  1012.000000   47.750000   722.750000   \n",
       "max    2019.000000  728.000000  1421.000000  100.000000  1271.000000   \n",
       "\n",
       "                 MT           PA           RO          RR          TO  \\\n",
       "count     16.000000    16.000000    16.000000   16.000000   16.000000   \n",
       "mean    2691.562500  3923.625000  1392.437500  243.187500   77.562500   \n",
       "std     2940.367595  1945.802487   943.567413  150.567468   63.238141   \n",
       "min      757.000000  1741.000000   435.000000  121.000000   21.000000   \n",
       "25%     1108.750000  2411.250000   842.000000  139.000000   46.750000   \n",
       "50%     1525.500000  3389.000000  1189.500000  198.500000   57.500000   \n",
       "75%     2823.000000  5546.250000  1434.750000  269.250000   82.250000   \n",
       "max    11814.000000  8870.000000  3858.000000  617.000000  271.000000   \n",
       "\n",
       "          AMZ LEGAL  \n",
       "count     16.000000  \n",
       "mean   10020.937500  \n",
       "std     6112.467134  \n",
       "min     4571.000000  \n",
       "25%     6365.250000  \n",
       "50%     7500.000000  \n",
       "75%    11966.000000  \n",
       "max    27772.000000  "
      ]
     },
     "execution_count": 52,
     "metadata": {},
     "output_type": "execute_result"
    }
   ],
   "source": [
    "df.describe()"
   ]
  },
  {
   "cell_type": "code",
   "execution_count": 53,
   "id": "359804f0",
   "metadata": {},
   "outputs": [],
   "source": [
    "def bar_plot(value):\n",
    "    plot = sns.color_palette(\"Greens\", df.shape[0] + 15)\n",
    "    values = df[\"AMZ LEGAL\"].copy().values\n",
    "    values.sort()\n",
    "    return plot[values.tolist().index(value) + 10]"
   ]
  },
  {
   "cell_type": "code",
   "execution_count": 54,
   "id": "68f91081",
   "metadata": {},
   "outputs": [
    {
     "data": {
      "image/png": "[encoded data removed]",
      "text/plain": [
       "<Figure size 640x480 with 1 Axes>"
      ]
     },
     "metadata": {},
     "output_type": "display_data"
    }
   ],
   "source": [
    "sns.barplot(x=\"Ano/Estados\", y=\"AMZ LEGAL\", palette=df[\"AMZ LEGAL\"].apply(bar_plot), data=df)\n",
    "plt.title(\"Legal Amazon Deforestation\")\n",
    "plt.ylabel(\"Area in km\")\n",
    "plt.show()"
   ]
  },
  {
   "cell_type": "markdown",
   "id": "26451d0c",
   "metadata": {},
   "source": [
    "#### Modeling"
   ]
  },
  {
   "cell_type": "code",
   "execution_count": 95,
   "id": "bc262693",
   "metadata": {},
   "outputs": [],
   "source": [
    "import pandas as pd\n",
    "from sklearn.model_selection import train_test_split\n",
    "from sklearn.preprocessing import LabelEncoder\n",
    "from sklearn.ensemble import RandomForestClassifier\n",
    "from sklearn.metrics import classification_report, accuracy_score"
   ]
  },
  {
   "cell_type": "code",
   "execution_count": 100,
   "id": "0c00e283",
   "metadata": {},
   "outputs": [],
   "source": [
    "label_encoder = LabelEncoder()\n",
    "df['AMZ LEGAL'] = label_encoder.fit_transform(df['AMZ LEGAL'])"
   ]
  },
  {
   "cell_type": "code",
   "execution_count": 102,
   "id": "49611bad",
   "metadata": {},
   "outputs": [],
   "source": [
    "X = df.drop(columns=['AMZ LEGAL', 'Ano/Estados'])\n",
    "y = df['AMZ LEGAL'] "
   ]
  },
  {
   "cell_type": "code",
   "execution_count": 103,
   "id": "f5823eb0",
   "metadata": {},
   "outputs": [],
   "source": [
    "X_train, X_test, y_train, y_test = train_test_split(X, y, test_size=0.2, random_state=42)"
   ]
  },
  {
   "cell_type": "code",
   "execution_count": 104,
   "id": "cd26c5dc",
   "metadata": {},
   "outputs": [],
   "source": [
    "clf = RandomForestClassifier(n_estimators=100, random_state=42)"
   ]
  },
  {
   "cell_type": "code",
   "execution_count": 88,
   "id": "9575becc",
   "metadata": {},
   "outputs": [],
   "source": [
    "# X = df.drop(columns=[\"AMZ LEGAL\"])\n",
    "# y = df[\"AMZ LEGAL\"]"
   ]
  },
  {
   "cell_type": "code",
   "execution_count": 89,
   "id": "e8924eb5",
   "metadata": {},
   "outputs": [],
   "source": [
    "# X_train, X_test, y_train, y_test = train_test_split(X, y_encoded, test_size=0.2, random_state=42)"
   ]
  },
  {
   "cell_type": "code",
   "execution_count": 96,
   "id": "15e10b77",
   "metadata": {},
   "outputs": [],
   "source": [
    "# classifier = XGBClassifier()\n",
    "# classifier.fit(X_train, y_train)"
   ]
  },
  {
   "cell_type": "code",
   "execution_count": 97,
   "id": "db509ade",
   "metadata": {},
   "outputs": [],
   "source": [
    "# unique_labels = set(y)\n",
    "# print(\"Unique Labels:\", unique_labels)"
   ]
  },
  {
   "cell_type": "code",
   "execution_count": 105,
   "id": "9d8fcf20",
   "metadata": {},
   "outputs": [
    {
     "data": {
      "text/html": [
       "<style>#sk-container-id-1 {color: black;}#sk-container-id-1 pre{padding: 0;}#sk-container-id-1 div.sk-toggleable {background-color: white;}#sk-container-id-1 label.sk-toggleable__label {cursor: pointer;display: block;width: 100%;margin-bottom: 0;padding: 0.3em;box-sizing: border-box;text-align: center;}#sk-container-id-1 label.sk-toggleable__label-arrow:before {content: \"▸\";float: left;margin-right: 0.25em;color: #696969;}#sk-container-id-1 label.sk-toggleable__label-arrow:hover:before {color: black;}#sk-container-id-1 div.sk-estimator:hover label.sk-toggleable__label-arrow:before {color: black;}#sk-container-id-1 div.sk-toggleable__content {max-height: 0;max-width: 0;overflow: hidden;text-align: left;background-color: #f0f8ff;}#sk-container-id-1 div.sk-toggleable__content pre {margin: 0.2em;color: black;border-radius: 0.25em;background-color: #f0f8ff;}#sk-container-id-1 input.sk-toggleable__control:checked~div.sk-toggleable__content {max-height: 200px;max-width: 100%;overflow: auto;}#sk-container-id-1 input.sk-toggleable__control:checked~label.sk-toggleable__label-arrow:before {content: \"▾\";}#sk-container-id-1 div.sk-estimator input.sk-toggleable__control:checked~label.sk-toggleable__label {background-color: #d4ebff;}#sk-container-id-1 div.sk-label input.sk-toggleable__control:checked~label.sk-toggleable__label {background-color: #d4ebff;}#sk-container-id-1 input.sk-hidden--visually {border: 0;clip: rect(1px 1px 1px 1px);clip: rect(1px, 1px, 1px, 1px);height: 1px;margin: -1px;overflow: hidden;padding: 0;position: absolute;width: 1px;}#sk-container-id-1 div.sk-estimator {font-family: monospace;background-color: #f0f8ff;border: 1px dotted black;border-radius: 0.25em;box-sizing: border-box;margin-bottom: 0.5em;}#sk-container-id-1 div.sk-estimator:hover {background-color: #d4ebff;}#sk-container-id-1 div.sk-parallel-item::after {content: \"\";width: 100%;border-bottom: 1px solid gray;flex-grow: 1;}#sk-container-id-1 div.sk-label:hover label.sk-toggleable__label {background-color: #d4ebff;}#sk-container-id-1 div.sk-serial::before {content: \"\";position: absolute;border-left: 1px solid gray;box-sizing: border-box;top: 0;bottom: 0;left: 50%;z-index: 0;}#sk-container-id-1 div.sk-serial {display: flex;flex-direction: column;align-items: center;background-color: white;padding-right: 0.2em;padding-left: 0.2em;position: relative;}#sk-container-id-1 div.sk-item {position: relative;z-index: 1;}#sk-container-id-1 div.sk-parallel {display: flex;align-items: stretch;justify-content: center;background-color: white;position: relative;}#sk-container-id-1 div.sk-item::before, #sk-container-id-1 div.sk-parallel-item::before {content: \"\";position: absolute;border-left: 1px solid gray;box-sizing: border-box;top: 0;bottom: 0;left: 50%;z-index: -1;}#sk-container-id-1 div.sk-parallel-item {display: flex;flex-direction: column;z-index: 1;position: relative;background-color: white;}#sk-container-id-1 div.sk-parallel-item:first-child::after {align-self: flex-end;width: 50%;}#sk-container-id-1 div.sk-parallel-item:last-child::after {align-self: flex-start;width: 50%;}#sk-container-id-1 div.sk-parallel-item:only-child::after {width: 0;}#sk-container-id-1 div.sk-dashed-wrapped {border: 1px dashed gray;margin: 0 0.4em 0.5em 0.4em;box-sizing: border-box;padding-bottom: 0.4em;background-color: white;}#sk-container-id-1 div.sk-label label {font-family: monospace;font-weight: bold;display: inline-block;line-height: 1.2em;}#sk-container-id-1 div.sk-label-container {text-align: center;}#sk-container-id-1 div.sk-container {/* jupyter's `normalize.less` sets `[hidden] { display: none; }` but bootstrap.min.css set `[hidden] { display: none !important; }` so we also need the `!important` here to be able to override the default hidden behavior on the sphinx rendered scikit-learn.org. See: https://github.com/scikit-learn/scikit-learn/issues/21755 */display: inline-block !important;position: relative;}#sk-container-id-1 div.sk-text-repr-fallback {display: none;}</style><div id=\"sk-container-id-1\" class=\"sk-top-container\"><div class=\"sk-text-repr-fallback\"><pre>RandomForestClassifier(random_state=42)</pre><b>In a Jupyter environment, please rerun this cell to show the HTML representation or trust the notebook. <br />On GitHub, the HTML representation is unable to render, please try loading this page with nbviewer.org.</b></div><div class=\"sk-container\" hidden><div class=\"sk-item\"><div class=\"sk-estimator sk-toggleable\"><input class=\"sk-toggleable__control sk-hidden--visually\" id=\"sk-estimator-id-1\" type=\"checkbox\" checked><label for=\"sk-estimator-id-1\" class=\"sk-toggleable__label sk-toggleable__label-arrow\">RandomForestClassifier</label><div class=\"sk-toggleable__content\"><pre>RandomForestClassifier(random_state=42)</pre></div></div></div></div></div>"
      ],
      "text/plain": [
       "RandomForestClassifier(random_state=42)"
      ]
     },
     "execution_count": 105,
     "metadata": {},
     "output_type": "execute_result"
    }
   ],
   "source": [
    "clf.fit(X_train, y_train)"
   ]
  },
  {
   "cell_type": "code",
   "execution_count": 106,
   "id": "d75e7c58",
   "metadata": {},
   "outputs": [],
   "source": [
    "y_pred = clf.predict(X_test)"
   ]
  },
  {
   "cell_type": "code",
   "execution_count": 107,
   "id": "30300aed",
   "metadata": {},
   "outputs": [
    {
     "name": "stderr",
     "output_type": "stream",
     "text": [
      "D:\\gfg\\env\\lib\\site-packages\\sklearn\\metrics\\_classification.py:1469: UndefinedMetricWarning: Precision and F-score are ill-defined and being set to 0.0 in labels with no predicted samples. Use `zero_division` parameter to control this behavior.\n",
      "  _warn_prf(average, modifier, msg_start, len(result))\n",
      "D:\\gfg\\env\\lib\\site-packages\\sklearn\\metrics\\_classification.py:1469: UndefinedMetricWarning: Recall and F-score are ill-defined and being set to 0.0 in labels with no true samples. Use `zero_division` parameter to control this behavior.\n",
      "  _warn_prf(average, modifier, msg_start, len(result))\n",
      "D:\\gfg\\env\\lib\\site-packages\\sklearn\\metrics\\_classification.py:1469: UndefinedMetricWarning: Precision and F-score are ill-defined and being set to 0.0 in labels with no predicted samples. Use `zero_division` parameter to control this behavior.\n",
      "  _warn_prf(average, modifier, msg_start, len(result))\n",
      "D:\\gfg\\env\\lib\\site-packages\\sklearn\\metrics\\_classification.py:1469: UndefinedMetricWarning: Recall and F-score are ill-defined and being set to 0.0 in labels with no true samples. Use `zero_division` parameter to control this behavior.\n",
      "  _warn_prf(average, modifier, msg_start, len(result))\n",
      "D:\\gfg\\env\\lib\\site-packages\\sklearn\\metrics\\_classification.py:1469: UndefinedMetricWarning: Precision and F-score are ill-defined and being set to 0.0 in labels with no predicted samples. Use `zero_division` parameter to control this behavior.\n",
      "  _warn_prf(average, modifier, msg_start, len(result))\n",
      "D:\\gfg\\env\\lib\\site-packages\\sklearn\\metrics\\_classification.py:1469: UndefinedMetricWarning: Recall and F-score are ill-defined and being set to 0.0 in labels with no true samples. Use `zero_division` parameter to control this behavior.\n",
      "  _warn_prf(average, modifier, msg_start, len(result))\n"
     ]
    }
   ],
   "source": [
    "accuracy = accuracy_score(y_test, y_pred)\n",
    "classification_rep = classification_report(y_test, y_pred)"
   ]
  },
  {
   "cell_type": "code",
   "execution_count": 98,
   "id": "5375e500",
   "metadata": {},
   "outputs": [],
   "source": [
    "# mask = (y_mapped == 0) | (y_mapped == 1) | (y_mapped == 2) | (y_mapped == 3) | (y_mapped == 4) | (y_mapped == 5) | (y_mapped == 6) | (y_mapped == 7) | (y_mapped == 8) | (y_mapped == 9)  \n",
    "# X_train_filtered = X_train[mask]\n",
    "# y_mapped_filtered = y_mapped[mask]"
   ]
  },
  {
   "cell_type": "code",
   "execution_count": 108,
   "id": "bef33752",
   "metadata": {},
   "outputs": [
    {
     "name": "stdout",
     "output_type": "stream",
     "text": [
      "Accuracy: 0.0\n",
      "Classification Report:\n",
      "               precision    recall  f1-score   support\n",
      "\n",
      "           5       0.00      0.00      0.00       0.0\n",
      "           6       0.00      0.00      0.00       0.0\n",
      "           7       0.00      0.00      0.00       1.0\n",
      "           8       0.00      0.00      0.00       1.0\n",
      "          13       0.00      0.00      0.00       0.0\n",
      "          14       0.00      0.00      0.00       1.0\n",
      "          15       0.00      0.00      0.00       1.0\n",
      "\n",
      "    accuracy                           0.00       4.0\n",
      "   macro avg       0.00      0.00      0.00       4.0\n",
      "weighted avg       0.00      0.00      0.00       4.0\n",
      "\n"
     ]
    }
   ],
   "source": [
    "print(f\"Accuracy: {accuracy}\")\n",
    "print(\"Classification Report:\\n\", classification_rep)"
   ]
  },
  {
   "cell_type": "code",
   "execution_count": 110,
   "id": "97d09967",
   "metadata": {},
   "outputs": [
    {
     "name": "stdout",
     "output_type": "stream",
     "text": [
      "Predicted Class: 12\n",
      "Class 0: No Deforestation\n",
      "Class 1: Low Deforestation\n",
      "Class 2: Moderate Deforestation\n",
      "Class 3: High Deforestation\n"
     ]
    }
   ],
   "source": [
    "new_data_point = {\n",
    "    'AC': 1500,\n",
    "    'AM': 1200,\n",
    "    'AP': 800,\n",
    "    'MA': 3000,\n",
    "    'MT': 2500,\n",
    "    'PA': 3500,\n",
    "    'RO': 1000,\n",
    "    'RR': 600,\n",
    "    'TO': 2000,\n",
    "}\n",
    "new_data_df = pd.DataFrame([new_data_point])\n",
    "predicted_class = clf.predict(new_data_df)\n",
    "predicted_label = label_encoder.inverse_transform(predicted_class)\n",
    "print(\"Predicted Class:\", predicted_label[0])\n",
    "print(\"\"\"Class 0: No Deforestation\n",
    "Class 1: Low Deforestation\n",
    "Class 2: Moderate Deforestation\n",
    "Class 3: High Deforestation\"\"\"\n",
    "      )\n"
   ]
  },
  {
   "cell_type": "code",
   "execution_count": null,
   "id": "84d70801",
   "metadata": {},
   "outputs": [],
   "source": []
  }
 ],
 "metadata": {
  "kernelspec": {
   "display_name": "Python 3 (ipykernel)",
   "language": "python",
   "name": "python3"
  },
  "language_info": {
   "codemirror_mode": {
    "name": "ipython",
    "version": 3
   },
   "file_extension": ".py",
   "mimetype": "text/x-python",
   "name": "python",
   "nbconvert_exporter": "python",
   "pygments_lexer": "ipython3",
   "version": "3.10.12"
  }
 },
 "nbformat": 4,
 "nbformat_minor": 5
}
